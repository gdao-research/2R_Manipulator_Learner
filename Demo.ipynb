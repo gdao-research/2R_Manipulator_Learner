{
 "cells": [
  {
   "cell_type": "code",
   "execution_count": 1,
   "metadata": {},
   "outputs": [
    {
     "name": "stdout",
     "output_type": "stream",
     "text": [
      "Eval 1: 0%\n",
      "Train current 100 episodes to 100: 0%\n",
      "Train current 100 episodes to 200: 1%\n",
      "Eval 201: 0%\n",
      "Train current 100 episodes to 300: 0%\n",
      "Train current 100 episodes to 400: 4%\n",
      "Eval 401: 20%\n",
      "Train current 100 episodes to 500: 13%\n",
      "Train current 100 episodes to 600: 20%\n",
      "Eval 601: 22%\n",
      "Train current 100 episodes to 700: 17%\n",
      "Train current 100 episodes to 800: 39%\n",
      "Eval 801: 34%\n",
      "Train current 100 episodes to 900: 30%\n",
      "Train current 100 episodes to 1000: 22%\n",
      "Eval 1001: 18%\n",
      "Train current 100 episodes to 1100: 16%\n",
      "Train current 100 episodes to 1200: 22%\n",
      "Eval 1201: 22%\n",
      "Train current 100 episodes to 1300: 30%\n",
      "Train current 100 episodes to 1400: 47%\n",
      "Eval 1401: 40%\n",
      "Train current 100 episodes to 1500: 53%\n",
      "Train current 100 episodes to 1600: 51%\n",
      "Eval 1601: 52%\n",
      "Train current 100 episodes to 1700: 62%\n",
      "Train current 100 episodes to 1800: 53%\n",
      "Eval 1801: 52%\n",
      "Train current 100 episodes to 1900: 45%\n",
      "Train current 100 episodes to 2000: 38%\n",
      "Eval 2001: 46%\n",
      "Train current 100 episodes to 2100: 44%\n",
      "Train current 100 episodes to 2200: 51%\n",
      "Eval 2201: 52%\n",
      "Train current 100 episodes to 2300: 51%\n",
      "Train current 100 episodes to 2400: 52%\n",
      "Eval 2401: 60%\n",
      "Train current 100 episodes to 2500: 62%\n",
      "Train current 100 episodes to 2600: 62%\n",
      "Eval 2601: 56%\n",
      "Train current 100 episodes to 2700: 67%\n",
      "Train current 100 episodes to 2800: 73%\n",
      "Eval 2801: 66%\n",
      "Train current 100 episodes to 2900: 72%\n",
      "Train current 100 episodes to 3000: 53%\n",
      "Eval 3001: 56%\n",
      "Train current 100 episodes to 3100: 74%\n",
      "Train current 100 episodes to 3200: 80%\n",
      "Eval 3201: 62%\n",
      "Train current 100 episodes to 3300: 79%\n",
      "Train current 100 episodes to 3400: 77%\n",
      "Eval 3401: 78%\n",
      "Train current 100 episodes to 3500: 74%\n",
      "Train current 100 episodes to 3600: 84%\n",
      "Eval 3601: 76%\n",
      "Train current 100 episodes to 3700: 76%\n",
      "Train current 100 episodes to 3800: 84%\n",
      "Eval 3801: 84%\n",
      "Train current 100 episodes to 3900: 83%\n",
      "Train current 100 episodes to 4000: 74%\n",
      "Eval 4001: 84%\n",
      "Train current 100 episodes to 4100: 84%\n",
      "Train current 100 episodes to 4200: 87%\n",
      "Eval 4201: 84%\n",
      "Train current 100 episodes to 4300: 81%\n",
      "Train current 100 episodes to 4400: 88%\n",
      "Eval 4401: 84%\n",
      "Train current 100 episodes to 4500: 82%\n",
      "Train current 100 episodes to 4600: 83%\n",
      "Eval 4601: 92%\n",
      "./model/model_4601.ckpt\n",
      "Train current 100 episodes to 4700: 80%\n",
      "Train current 100 episodes to 4800: 91%\n",
      "Eval 4801: 86%\n",
      "Train current 100 episodes to 4900: 92%\n",
      "Train current 100 episodes to 5000: 88%\n",
      "Eval 5001: 88%\n",
      "Train current 100 episodes to 5100: 88%\n",
      "Train current 100 episodes to 5200: 89%\n",
      "Eval 5201: 78%\n",
      "Train current 100 episodes to 5300: 92%\n",
      "Train current 100 episodes to 5400: 89%\n",
      "Eval 5401: 92%\n",
      "./model/model_5401.ckpt\n",
      "Train current 100 episodes to 5500: 90%\n",
      "Train current 100 episodes to 5600: 95%\n",
      "Eval 5601: 84%\n",
      "Train current 100 episodes to 5700: 85%\n",
      "Train current 100 episodes to 5800: 90%\n",
      "Eval 5801: 90%\n",
      "Train current 100 episodes to 5900: 92%\n",
      "Train current 100 episodes to 6000: 92%\n",
      "Eval 6001: 92%\n",
      "./model/model_6001.ckpt\n",
      "Train current 100 episodes to 6100: 91%\n",
      "Train current 100 episodes to 6200: 92%\n",
      "Eval 6201: 94%\n",
      "./model/model_6201.ckpt\n",
      "Train current 100 episodes to 6300: 91%\n",
      "Train current 100 episodes to 6400: 92%\n",
      "Eval 6401: 96%\n",
      "./model/model_6401.ckpt\n",
      "Train current 100 episodes to 6500: 90%\n",
      "Train current 100 episodes to 6600: 96%\n",
      "Eval 6601: 86%\n",
      "Train current 100 episodes to 6700: 95%\n",
      "Train current 100 episodes to 6800: 92%\n",
      "Eval 6801: 94%\n",
      "Train current 100 episodes to 6900: 91%\n",
      "Train current 100 episodes to 7000: 94%\n",
      "Eval 7001: 88%\n",
      "Train current 100 episodes to 7100: 96%\n",
      "Train current 100 episodes to 7200: 92%\n",
      "Eval 7201: 86%\n",
      "Train current 100 episodes to 7300: 91%\n",
      "Train current 100 episodes to 7400: 93%\n",
      "Eval 7401: 92%\n",
      "Train current 100 episodes to 7500: 90%\n",
      "Train current 100 episodes to 7600: 89%\n",
      "Eval 7601: 84%\n",
      "Train current 100 episodes to 7700: 90%\n",
      "Train current 100 episodes to 7800: 92%\n",
      "Eval 7801: 90%\n",
      "Train current 100 episodes to 7900: 97%\n",
      "Train current 100 episodes to 8000: 90%\n",
      "Eval 8001: 88%\n",
      "Train current 100 episodes to 8100: 94%\n",
      "Train current 100 episodes to 8200: 92%\n",
      "Eval 8201: 84%\n",
      "Train current 100 episodes to 8300: 95%\n",
      "Train current 100 episodes to 8400: 89%\n",
      "Eval 8401: 90%\n",
      "Train current 100 episodes to 8500: 87%\n",
      "Train current 100 episodes to 8600: 90%\n",
      "Eval 8601: 92%\n",
      "Train current 100 episodes to 8700: 97%\n",
      "Train current 100 episodes to 8800: 95%\n",
      "Eval 8801: 92%\n",
      "Train current 100 episodes to 8900: 97%\n",
      "Train current 100 episodes to 9000: 93%\n",
      "Eval 9001: 94%\n",
      "Train current 100 episodes to 9100: 95%\n",
      "Train current 100 episodes to 9200: 98%\n",
      "Eval 9201: 94%\n",
      "Train current 100 episodes to 9300: 94%\n",
      "Train current 100 episodes to 9400: 97%\n",
      "Eval 9401: 96%\n",
      "./model/model_9401.ckpt\n",
      "Train current 100 episodes to 9500: 95%\n",
      "Train current 100 episodes to 9600: 98%\n",
      "Eval 9601: 96%\n",
      "./model/model_9601.ckpt\n",
      "Train current 100 episodes to 9700: 95%\n",
      "Train current 100 episodes to 9800: 97%\n",
      "Eval 9801: 96%\n",
      "./model/model_9801.ckpt\n",
      "Train current 100 episodes to 9900: 94%\n",
      "Train current 100 episodes to 10000: 96%\n",
      "Eval 10001: 98%\n",
      "./model/model_10001.ckpt\n",
      "Train current 100 episodes to 10100: 96%\n",
      "Train current 100 episodes to 10200: 95%\n",
      "Eval 10201: 96%\n",
      "Train current 100 episodes to 10300: 98%\n",
      "Train current 100 episodes to 10400: 95%\n",
      "Eval 10401: 92%\n",
      "Train current 100 episodes to 10500: 96%\n",
      "Train current 100 episodes to 10600: 96%\n",
      "Eval 10601: 94%\n",
      "Train current 100 episodes to 10700: 96%\n",
      "Train current 100 episodes to 10800: 98%\n",
      "Eval 10801: 92%\n",
      "Train current 100 episodes to 10900: 95%\n",
      "Train current 100 episodes to 11000: 96%\n",
      "Eval 11001: 94%\n",
      "Train current 100 episodes to 11100: 95%\n",
      "Train current 100 episodes to 11200: 95%\n",
      "Eval 11201: 94%\n",
      "Train current 100 episodes to 11300: 99%\n",
      "Train current 100 episodes to 11400: 98%\n",
      "Eval 11401: 100%\n",
      "./model/model_11401.ckpt\n",
      "Rate: 100%\n"
     ]
    },
    {
     "ename": "SystemExit",
     "evalue": "",
     "output_type": "error",
     "traceback": [
      "An exception has occurred, use %tb to see the full traceback.\n",
      "\u001b[1;31mSystemExit\u001b[0m\n"
     ]
    },
    {
     "name": "stderr",
     "output_type": "stream",
     "text": [
      "C:\\Users\\Giang\\AppData\\Local\\Continuum\\anaconda3\\lib\\site-packages\\IPython\\core\\interactiveshell.py:2971: UserWarning: To exit: use 'exit', 'quit', or Ctrl-D.\n",
      "  warn(\"To exit: use 'exit', 'quit', or Ctrl-D.\", stacklevel=1)\n"
     ]
    }
   ],
   "source": [
    "import os\n",
    "import tensorflow as tf\n",
    "from agent import Agent\n",
    "import logger\n",
    "import matplotlib.pyplot as plt\n",
    "%matplotlib inline\n",
    "# os.environ[\"CUDA_DEVICE_ORDER\"] = \"PCI_BUS_ID\"\n",
    "# os.environ[\"CUDA_VISIBLE_DEVICES\"] = \"1\"  # Only run on GPU 1\n",
    "\n",
    "sess = tf.InteractiveSession()\n",
    "agent = Agent()\n",
    "sess.run(tf.global_variables_initializer())\n",
    "agent.brain.initialize_target()\n",
    "for ep in range(100001):\n",
    "    agent.perceive()  # SystemExit because of reached 100% success rate"
   ]
  },
  {
   "cell_type": "code",
   "execution_count": 12,
   "metadata": {},
   "outputs": [
    {
     "name": "stdout",
     "output_type": "stream",
     "text": [
      "7\n"
     ]
    }
   ],
   "source": [
    "buf, suc = agent.train_worker.run(0, False)\n",
    "print(len(buf))\n",
    "def plot(s):\n",
    "    fig = plt.figure()\n",
    "    fig.add_subplot(121)\n",
    "    plt.imshow(s[:, :, :-1])\n",
    "    fig.add_subplot(122)\n",
    "    plt.imshow(s[:, :, -1])\n",
    "    plt.show()\n",
    "\n",
    "def plot_multiple(ss):\n",
    "    fig = plt.figure()\n",
    "    for i in range(len(ss)):\n",
    "        fig.add_subplot(100 + len(ss)*10 + i + 1)\n",
    "        plt.imshow(ss[i][:, :, :-1])\n",
    "    plt.show()"
   ]
  },
  {
   "cell_type": "code",
   "execution_count": 13,
   "metadata": {},
   "outputs": [
    {
     "data": {
      "image/png": "[encoded data removed]",
      "text/plain": [
       "<Figure size 432x288 with 2 Axes>"
      ]
     },
     "metadata": {},
     "output_type": "display_data"
    }
   ],
   "source": [
    "plot(buf[0][0])"
   ]
  },
  {
   "cell_type": "code",
   "execution_count": 14,
   "metadata": {},
   "outputs": [
    {
     "data": {
      "image/png": "[encoded data removed]",
      "text/plain": [
       "<Figure size 432x288 with 7 Axes>"
      ]
     },
     "metadata": {},
     "output_type": "display_data"
    }
   ],
   "source": [
    "plot_multiple([buf[i][0] for i in range(len(buf))])"
   ]
  },
  {
   "cell_type": "code",
   "execution_count": null,
   "metadata": {},
   "outputs": [],
   "source": []
  }
 ],
 "metadata": {
  "kernelspec": {
   "display_name": "Python 3",
   "language": "python",
   "name": "python3"
  },
  "language_info": {
   "codemirror_mode": {
    "name": "ipython",
    "version": 3
   },
   "file_extension": ".py",
   "mimetype": "text/x-python",
   "name": "python",
   "nbconvert_exporter": "python",
   "pygments_lexer": "ipython3",
   "version": "3.6.5"
  }
 },
 "nbformat": 4,
 "nbformat_minor": 2
}
